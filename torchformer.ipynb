{
 "cells": [
  {
   "cell_type": "code",
   "execution_count": null,
   "metadata": {},
   "outputs": [],
   "source": []
  },
  {
   "cell_type": "code",
   "execution_count": null,
   "metadata": {},
   "outputs": [],
   "source": [
    "class BaseDataModule(pl.LightningDataModule):\n",
    "  def __init__(self, batch_size=32, split=0.8, *args, **kwargs):\n",
    "    super().__init__()\n",
    "    self.ds_X, self.ds_Y = self.get_dataset(*args, **kwargs)\n",
    "    shuffler = np.random.permutation(self.ds_X.shape[0])\n",
    "    self.ds_X = self.ds_X[shuffler]\n",
    "    self.ds_Y = self.ds_Y[shuffler]\n",
    "    self.split = int(self.ds_X.shape[0]*split)\n",
    "    self.batch_size = batch_size\n",
    "    \n",
    "  def train_dataloader(self):\n",
    "    ds_X_train, ds_Y_train = self.ds_X[0:self.split], self.ds_Y[0:self.split]\n",
    "    return torch.utils.data.DataLoader(list(zip(ds_X_train, ds_Y_train)), batch_size=self.batch_size)\n",
    "\n",
    "  def val_dataloader(self):\n",
    "    ds_X_test, ds_Y_test = self.ds_X[self.split:], self.ds_Y[self.split:]\n",
    "    return torch.utils.data.DataLoader(list(zip(ds_X_test, ds_Y_test)), batch_size=self.batch_size)"
   ]
  }
 ],
 "metadata": {
  "language_info": {
   "name": "python"
  }
 },
 "nbformat": 4,
 "nbformat_minor": 2
}
